{
 "cells": [
  {
   "cell_type": "markdown",
   "id": "41e142ed-7af3-4a92-a03c-9c47218562a5",
   "metadata": {},
   "source": [
    "## Ensemple Learning\n",
    "\n",
    "- ensemble learning is an approach to machine learning which tries to obtain better predictive performance by combining the predictions from multiple machine learning models.\n",
    "- the 3 main classes of ensemble learning include:\n",
    "  1. **bagging**\n",
    "  2. **stacking**\n",
    "  3. **boosting**\n",
    "\n",
    "- ***Bagging***:- involves fitting many decision trees on different samples og the same data set and then averaging the results in predictions.\n",
    "- ***stacking***:- fit many different model types on the same data and use another model to learn how to best combine the predictions.\n",
    "- ***boosting***:- involves adding ensemble members sequentially that correct the predictions made by prior models and outputs of waiting average, often predictions.\n",
    "\n",
    " the above are aggregate techniques built to reduce variance. "
   ]
  },
  {
   "cell_type": "markdown",
   "id": "3479b6de-aa90-47de-a0d2-7c80faeb46b5",
   "metadata": {},
   "source": [
    "## Random forest: rule-based Algorithm\n",
    "\n",
    "- Decision trees, though known as simple algorithm they are also referred to greedy algorithm. this is because they focus on optimizing for the node splits at hand, rather than taking into account how the split impacts the entire tree often resulting into overfitting. An overfit tree is highly optimized in predicting the values in the training data set which results into a learning model with a *high variance*.\n",
    "\n",
    "**random forests and overfitting**\n",
    "\n",
    "- overfitting is when a model is nolonger as accurate as we want it to be on thr data. \n",
    "\n",
    "\n",
    "\n"
   ]
  },
  {
   "cell_type": "code",
   "execution_count": null,
   "id": "253c4664-b015-4298-864f-192cdfcdbb89",
   "metadata": {},
   "outputs": [],
   "source": []
  }
 ],
 "metadata": {
  "kernelspec": {
   "display_name": "env",
   "language": "python",
   "name": "env"
  },
  "language_info": {
   "codemirror_mode": {
    "name": "ipython",
    "version": 3
   },
   "file_extension": ".py",
   "mimetype": "text/x-python",
   "name": "python",
   "nbconvert_exporter": "python",
   "pygments_lexer": "ipython3",
   "version": "3.12.4"
  }
 },
 "nbformat": 4,
 "nbformat_minor": 5
}
