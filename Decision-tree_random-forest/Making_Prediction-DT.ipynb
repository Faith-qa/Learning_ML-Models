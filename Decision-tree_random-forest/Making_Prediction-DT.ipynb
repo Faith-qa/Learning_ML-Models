{
 "cells": [
  {
   "cell_type": "markdown",
   "id": "f934d22b-6c52-4721-b511-dd2427b21a71",
   "metadata": {},
   "source": [
    "## Making Predictions\n",
    "\n",
    "\n",
    "You start at the root node (depth 0, at the top): this node asks whether the flower’s petal length is smaller than 2.45 cm. \n",
    "\n",
    "If it is, then you move down to the root’s left child node (depth 1, left). In this case, it is a leaf node (i.e., it does not have any child nodes), so it does not ask any questions: simply look at the predicted class for that node, and the Decision Tree predicts that your flower is an Iris setosa (class=setosa).\n",
    "\n",
    "Now suppose you find another flower, and this time the petal length is greater than 2.45 cm. You must move down to the root’s right child node (depth 1, right), which is not a leaf node, so the node asks another question: is the petal width smaller than 1.75 cm? \n",
    "\n",
    "If it is, then your flower is most likely an Iris versicolor (depth 2, left). If not, it is likely an Iris virginica (depth 2, right). It’s really that simple.\n",
    "\n",
    "Key pointers:\n",
    "\n",
    "1. A node's `samples` attributes:- counts how many training instances it applies to.\n",
    "2. a node's `value ` attribute:- tells you how many training instances of each class the node applies to.\n",
    "3. a node `gini`attribute:- measures it's imputirt. a node is \"pure\" (gini=0) if all training instances it applies to belongs to the same class.\n",
    "\n",
    "**white box**:- intuitive decision trees whose decisions are easy to interpret. "
   ]
  },
  {
   "cell_type": "code",
   "execution_count": null,
   "id": "f6238953-1c00-48a9-af0a-60db7faab3d5",
   "metadata": {},
   "outputs": [],
   "source": []
  }
 ],
 "metadata": {
  "kernelspec": {
   "display_name": "env",
   "language": "python",
   "name": "env"
  },
  "language_info": {
   "codemirror_mode": {
    "name": "ipython",
    "version": 3
   },
   "file_extension": ".py",
   "mimetype": "text/x-python",
   "name": "python",
   "nbconvert_exporter": "python",
   "pygments_lexer": "ipython3",
   "version": "3.12.4"
  }
 },
 "nbformat": 4,
 "nbformat_minor": 5
}
