{
 "cells": [
  {
   "cell_type": "markdown",
   "id": "dc8925f0-07db-465f-89c2-cf477328bc18",
   "metadata": {},
   "source": [
    "## Decision Trees\n",
    "\n",
    "used for classification and regression tasks in machine learning.\n",
    "mostly used to predict categorical variables i.e whether a patient has heart disease or not. \n",
    "- or used for numeric predictions such as the price of a house\n",
    "- Are constructed by recursively evaluating different features and using each node feature that best splits the data.\n",
    "\n",
    "**structure**:\n",
    "\n",
    "root node:- a node that starts the graph structure  i.e evaluates the variable that best splits the data. \n",
    "intermediate nodes:- nodes where variables are evaluated which are not the final nodes where predictions are made.\n",
    "child nodes:- nodes where the prediction and variables are actually made\n",
    "\n",
    "**tests used**:\n",
    "1. gini-index:- the lower the gini-index the better the algorithm\n",
    "2. also it is important to limit the depth of the \n",
    "  \n",
    "## Pruning:\n",
    "Problem with decision trees:- they tend to overfit the data\n",
    "**prunning** a descision tree is simply limiting the maximum depth of the tree thereby reducing overfitting and compleixity of the resulting decision tree. \n",
    "\n",
    "to fix the problem of overfitting, we assign a maiximum depth to the data. \n",
    "\n",
    "prunning simplifies the descision tree by removing the weakest rules in the tree. \n",
    "\n",
    "Types of prunning:\n",
    "\n",
    "1. **pre-pruning/early stopping**: stop a growing tree before it has completed classifying the training set\n",
    "\n",
    "2. **Post-pruning**: allows the tree to classify the training set perfectly then pruns the tree.\n",
    "\n",
    "is starts wutg an unprunned tree, takes a sequence of subtressa and picks the best one using cross validation.\n",
    "\n",
    "Prunning should ensure the following:\n",
    "\n",
    "1. the subtree is optimal: it has the highest accuracy on the cross-validation training set. "
   ]
  }
 ],
 "metadata": {
  "kernelspec": {
   "display_name": "env",
   "language": "python",
   "name": "env"
  },
  "language_info": {
   "codemirror_mode": {
    "name": "ipython",
    "version": 3
   },
   "file_extension": ".py",
   "mimetype": "text/x-python",
   "name": "python",
   "nbconvert_exporter": "python",
   "pygments_lexer": "ipython3",
   "version": "3.12.4"
  }
 },
 "nbformat": 4,
 "nbformat_minor": 5
}
