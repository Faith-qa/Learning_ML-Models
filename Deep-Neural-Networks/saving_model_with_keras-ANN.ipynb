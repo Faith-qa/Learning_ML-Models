{
 "cells": [
  {
   "cell_type": "markdown",
   "id": "69633e17-241e-4923-9993-186490fa8f74",
   "metadata": {},
   "source": [
    "# saving and Loading the Model\n",
    "saving a model is Keras is as simple as it gets:\n",
    "\n",
    "```python\n",
    "model.save(\"my_keras_model\", save_format=\"tf\")\n",
    "```\n",
    "when you set `save_format=\"tf\"`, keras saves the model using TensorFlows's *SavedModel* format i.e: a directory with the given name containing several files and subdirectories.\n",
    "\n",
    "in particular, the *saved_model.pb* file contains the model's architecture and logic in the form of a serialized computation graph, so you don't need to deploy the model's source code inorder to use it in production:\n",
    "\n",
    "the SavedModel.pb file  is sufficient\n",
    "\n",
    "\n",
    "**Loading the model**\n",
    "\n",
    "to load the model and use it to evaluate it or make predictions \n",
    "\n",
    "we simply:\n",
    "\n",
    "```python\n",
    "model = tf.ke"
   ]
  },
  {
   "cell_type": "code",
   "execution_count": null,
   "id": "684e136c-887a-4642-a7d7-2cd4718a2b40",
   "metadata": {},
   "outputs": [],
   "source": []
  }
 ],
 "metadata": {
  "kernelspec": {
   "display_name": "env-neural",
   "language": "python",
   "name": "env-neural"
  },
  "language_info": {
   "codemirror_mode": {
    "name": "ipython",
    "version": 3
   },
   "file_extension": ".py",
   "mimetype": "text/x-python",
   "name": "python",
   "nbconvert_exporter": "python",
   "pygments_lexer": "ipython3",
   "version": "3.12.4"
  }
 },
 "nbformat": 4,
 "nbformat_minor": 5
}
