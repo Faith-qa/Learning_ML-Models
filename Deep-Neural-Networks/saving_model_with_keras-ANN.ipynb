{
 "cells": [
  {
   "cell_type": "markdown",
   "id": "69633e17-241e-4923-9993-186490fa8f74",
   "metadata": {},
   "source": [
    "# saving and Loading the Model\n",
    "saving a model is Keras is as simple as it gets:\n",
    "\n",
    "```python\n",
    "model.save(\"my_keras_model\", save_format=\"tf\")\n",
    "```\n",
    "when you set `save_format=\"tf\"`, keras saves the model using TensorFlows's *SavedModel* format i.e: a directory with the given name containing several files and subdirectories.\n",
    "\n",
    "in particular, the *saved_model.pb* file contains the model's architecture and logic in the form of a serialized computation graph, so you don't need to deploy the model's source code inorder to use it in production:\n",
    "\n",
    "the SavedModel.pb file  is sufficient\n",
    "\n",
    "\n",
    "**Loading the model**\n",
    "\n",
    "to load the model and use it to evaluate it or make predictions \n",
    "\n",
    "we simply:\n",
    "\n",
    "```python\n",
    "model = tf.keras.models.load_model(\"my_keras_model\")\n",
    "\n",
    "y_pred_main, y_pred_aux = model.predict((X_new_wide, X_new_deep))\n",
    "```\n",
    "\n",
    "you can also use `save_weights()` and `load_weights()` to save and load only the parameter values. "
   ]
  },
  {
   "cell_type": "markdown",
   "id": "07a1e277-cafa-4d91-b84b-897c61924822",
   "metadata": {},
   "source": [
    "aving just the weights is faster and uses less disk space than saving the whole model, so it’s perfect to save quick checkpoints during training. If you’re training a big model, and it takes hours or days, then you must save checkpoints regularly in case the computer crashes. But how can you tell the `fit()` method to save checkpoints? Use callbacks."
   ]
  },
  {
   "cell_type": "code",
   "execution_count": null,
   "id": "e07dd2dc-d961-4a62-a9eb-ae2f7741002b",
   "metadata": {},
   "outputs": [],
   "source": []
  }
 ],
 "metadata": {
  "kernelspec": {
   "display_name": "env-neural",
   "language": "python",
   "name": "env-neural"
  },
  "language_info": {
   "codemirror_mode": {
    "name": "ipython",
    "version": 3
   },
   "file_extension": ".py",
   "mimetype": "text/x-python",
   "name": "python",
   "nbconvert_exporter": "python",
   "pygments_lexer": "ipython3",
   "version": "3.12.4"
  }
 },
 "nbformat": 4,
 "nbformat_minor": 5
}
