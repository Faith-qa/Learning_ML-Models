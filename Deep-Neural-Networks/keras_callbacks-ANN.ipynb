{
 "cells": [
  {
   "cell_type": "markdown",
   "id": "b146dd46-a8e0-442e-9d63-e18137e46737",
   "metadata": {},
   "source": [
    "# Using Callbacks\n",
    "\n",
    "The `fit()` method accepts `callbacks` argument that let's you specify a list of objects that keras will call before and after training, before and after each epoch, before and after processing each batch.\n",
    "\n",
    " For example the `Mo"
   ]
  },
  {
   "cell_type": "code",
   "execution_count": 2,
   "id": "660f621b-071c-4f50-a449-bdc8f1b9f557",
   "metadata": {},
   "outputs": [],
   "source": [
    "import tensorflow as tf\n",
    "\n",
    "checkpoint_cb = tf. keras.callbacks.ModelCheckpoint(\"my_checkpoints.weights.h5\",\n",
    "                                                    save_weights_only=True)\n"
   ]
  },
  {
   "cell_type": "markdown",
   "id": "05f197cd-1d0d-466c-b445-51326aa6fad3",
   "metadata": {},
   "source": [
    "# using Tensor-Booard for visualization\n",
    "\n",
    "though installed automatically with tensorflow, you need a plug in inorder to use it "
   ]
  },
  {
   "cell_type": "code",
   "execution_count": 4,
   "id": "e086db5a-2e5f-4a11-ab7d-dc4335818b2c",
   "metadata": {},
   "outputs": [],
   "source": [
    "from pathlib import Path\n",
    "from time import strftime\n",
    "\n",
    "def get_run_logdir(root_logdir=\"my_logs\"):\n",
    "    return Path(root_logdir)/strftime(\"run_%Y_%m_%d_%H_%M_%S\")\n",
    "\n",
    "run_logdir = get_run_logdir()\n"
   ]
  },
  {
   "cell_type": "markdown",
   "id": "2d1bce09-dd6f-411a-8db1-baef603f9e24",
   "metadata": {},
   "source": []
  }
 ],
 "metadata": {
  "kernelspec": {
   "display_name": "env-neural",
   "language": "python",
   "name": "env-neural"
  },
  "language_info": {
   "codemirror_mode": {
    "name": "ipython",
    "version": 3
   },
   "file_extension": ".py",
   "mimetype": "text/x-python",
   "name": "python",
   "nbconvert_exporter": "python",
   "pygments_lexer": "ipython3",
   "version": "3.12.4"
  }
 },
 "nbformat": 4,
 "nbformat_minor": 5
}
