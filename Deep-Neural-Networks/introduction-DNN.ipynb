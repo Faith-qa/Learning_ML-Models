{
 "cells": [
  {
   "cell_type": "markdown",
   "id": "a4565840-d257-432f-9850-dd4001eea234",
   "metadata": {},
   "source": [
    "# Introduction to Artificial Neural Networks with Keras\n",
    "\n",
    "ANN is a machine learning model inspired bt the network of of biological neurons in the brain.\n",
    "\n",
    "ANN architectures:\n",
    "\n",
    "- **the Perceptron**:- also called the Linear threshold unit. input and output are numbers and each input connection is associated with a weight. it then commputes a weighted sum of it's inputs then applies a step function to that sum and outputs the results.\n",
    "\n",
    "- the perceptron learning rule reinforces connections that help reduce  the error. it is fed on one training instanece at a time, for eact instance it makes a prediction.\n",
    "\n",
    "- let's test it out:"
   ]
  },
  {
   "cell_type": "code",
   "execution_count": 6,
   "id": "84271cd9-8ce4-43d2-87f2-14ef7aa95311",
   "metadata": {},
   "outputs": [],
   "source": [
    "import numpy as np\n",
    "from sklearn.datasets import load_iris\n",
    "from sklearn.linear_model import Perceptron\n",
    "\n",
    "iris = load_iris()\n",
    "\n",
    "X = iris.data[:, (2,3)] # petal length and petal width\n",
    "y = (iris.target == 0).astype(int)  # Iris setosa?\n",
    "\n",
    "per_clf = Perceptron()\n",
    "per_clf.fit(X,y)\n",
    "\n",
    "y_pred = per_clf.predict([[2,0.5]])"
   ]
  },
  {
   "cell_type": "markdown",
   "id": "030fdc10-c4ca-415a-bb5b-52ac90005373",
   "metadata": {},
   "source": [
    "Perceptron as a netowork was dropped mainly because of its many limitations i.e:\n",
    "\n",
    "- they are incapable of solving trivial problems\n",
    "- XOR problem i.e **exclusing OR**:- a logical operation that takes two binary input and returns true if exactly one of the inputs is true\n",
    "- because of the above,the Multilayer Perceptron and Backpropagation were invented."
   ]
  },
  {
   "cell_type": "markdown",
   "id": "b10a2992-875c-4972-b203-3b702fffb6ac",
   "metadata": {},
   "source": [
    "### the Multilayer Perceptron and Backpropagation\n"
   ]
  },
  {
   "cell_type": "code",
   "execution_count": null,
   "id": "ade152e4-2e99-438a-8594-831dc737dc21",
   "metadata": {},
   "outputs": [],
   "source": []
  }
 ],
 "metadata": {
  "kernelspec": {
   "display_name": "env-neural",
   "language": "python",
   "name": "env-neural"
  },
  "language_info": {
   "codemirror_mode": {
    "name": "ipython",
    "version": 3
   },
   "file_extension": ".py",
   "mimetype": "text/x-python",
   "name": "python",
   "nbconvert_exporter": "python",
   "pygments_lexer": "ipython3",
   "version": "3.12.4"
  }
 },
 "nbformat": 4,
 "nbformat_minor": 5
}
