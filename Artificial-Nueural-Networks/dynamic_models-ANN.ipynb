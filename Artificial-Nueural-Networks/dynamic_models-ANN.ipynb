{
 "cells": [
  {
   "cell_type": "markdown",
   "id": "0957369a-e01f-40e6-83f1-0bf9a9265730",
   "metadata": {},
   "source": [
    "# Using the subclassing API to build Dynamic Models\n",
    "\n",
    "both the sequential api andd the functional API are declarative. you start by declaring which layers you want to use and how theyta should be connected. \n",
    "\n",
    "An advantae of this is that the model can easily be saved, cloned and shared: it's structure can be displayed and analyzed; the the framework can infer shapes ans check types so errors can be caught earlier. \n",
    "\n",
    "it is also faily easy to debug given the model is a static graph of layers. \n",
    "\n",
    "the disadvantage is just that it is static. A model may involve loops, varying shapes, conditional branching and other dynamic behaviors, for such cases,the subclassing API is needed"
   ]
  },
  {
   "cell_type": "markdown",
   "id": "81a2d709-aef8-4565-afe1-3e67e7aad5a1",
   "metadata": {},
   "source": [
    "**How the subclass api works**\n",
    "\n",
    "with this approach, you subclass the `Model` class, create layers needed in the constructor and use them to perform computations in the `call()` method. \n",
    "\n",
    "for example creating an instance of the following `wideAndDeepModel` class gives an equivalent to the functionapi model:"
   ]
  },
  {
   "cell_type": "code",
   "execution_count": 2,
   "id": "6f59d174-472e-4ddc-b123-5f32d072f268",
   "metadata": {},
   "outputs": [],
   "source": [
    "\n",
    "from sklearn.datasets import fetch_california_housing\n",
    "import tensorflow as tf\n",
    "\n",
    "class WideAndDeepModel(tf.keras.Model):\n",
    "    def __init__(self, units=30, activation=\"relu\", **kwargs):\n",
    "        super().__init__(**kwargs) #needed to support naming the model\n",
    "\n",
    "        self.norm_layer_wide = tf.keras.layers.Normalization()\n",
    "        self.norm_layer_deep = tf.keras.layers.Normalization()\n",
    "        self.hidden1 = tf.keras.layers.Dense(units, activation=activation)\n",
    "        self.hidden2 = tf.keras.layers.Dense(units, activation=activation)\n",
    "        self.main_output = tf.keras.layers.Dense(1)\n",
    "        self.aux_output = tf.keras.layers.Dense(1)\n",
    "\n",
    "    def call(self, inputs):\n",
    "        input_wide, input_deep = inputs\n",
    "        norm_wide = self.norm_layer_wide(input_wide)\n",
    "        norm_deep = self.norm_layer_deep(input_deep)\n",
    "        hidden1 = self.hidden1(norm_deep)\n",
    "        hidden2 = self.hidden2(hidden1)\n",
    "        concat = tf.keras.layers.concatenate([norm_wide, hidden2])\n",
    "        output = self.main_output(concat)\n",
    "        aux_output = self.aux_output(hidden2)\n",
    "        return output, aux_output\n",
    "\n",
    "model = WideAndDeepModel(30, activation=\"relu\", name=\"my_cool_model\")      \n",
    "        "
   ]
  },
  {
   "cell_type": "code",
   "execution_count": null,
   "id": "0e5cfa47-2d6d-4221-b8f1-b2240c096d42",
   "metadata": {},
   "outputs": [],
   "source": []
  }
 ],
 "metadata": {
  "kernelspec": {
   "display_name": "env-neural",
   "language": "python",
   "name": "env-neural"
  },
  "language_info": {
   "codemirror_mode": {
    "name": "ipython",
    "version": 3
   },
   "file_extension": ".py",
   "mimetype": "text/x-python",
   "name": "python",
   "nbconvert_exporter": "python",
   "pygments_lexer": "ipython3",
   "version": "3.12.4"
  }
 },
 "nbformat": 4,
 "nbformat_minor": 5
}
