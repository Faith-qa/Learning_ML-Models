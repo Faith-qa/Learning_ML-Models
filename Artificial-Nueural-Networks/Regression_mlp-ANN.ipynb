{
 "cells": [
  {
   "cell_type": "markdown",
   "id": "e8dabd9a-52c4-4d81-92a0-57765a423b63",
   "metadata": {},
   "source": [
    "## Regression MLPs\n",
    "first, MLPs can be used for regression tasks.\n",
    "- when building an MLP for regression, you do not want to use any activation function for the output neurons, so they are free to output any range of values.\n",
    "- if you want to gurantee the output is always positive, you can use Relu activation function in the output layer. Alternatively, one can use softplus activation function which is a smooth variant of RELU.\n",
    "- to gurantee the predicition will fail within a given range, then you can use logistic function or the hyperbolic tangent and then scale the labels to the appropriate range. "
   ]
  },
  {
   "cell_type": "markdown",
   "id": "2465c896-bd17-41e7-87ac-03eb3fdba764",
   "metadata": {},
   "source": [
    "## Classification MLPs\n",
    "\n",
    "MLPs can also be used for classification tasks. For a binary classification problem, you just need a single output neuron using the logistic activation function: the output will be a number between 0 and 1, which you can interpret as the estimated probability of the positive class. The estimated probability of the negative class is equal to one minus that number."
   ]
  },
  {
   "cell_type": "markdown",
   "id": "baca9688-8fee-4581-b0c9-224c175a4a85",
   "metadata": {},
   "source": [
    "## Implementing MLP's with Keras\n",
    "test installation requirements:"
   ]
  },
  {
   "cell_type": "code",
   "execution_count": 2,
   "id": "b4f1fee1-6996-4742-afb0-1020c6468015",
   "metadata": {},
   "outputs": [
    {
     "name": "stdout",
     "output_type": "stream",
     "text": [
      "2.17.0\n"
     ]
    }
   ],
   "source": [
    "import tensorflow as tf\n",
    "from tensorflow import keras\n",
    "print(tf.__version__)\n"
   ]
  },
  {
   "cell_type": "code",
   "execution_count": null,
   "id": "5d3eb481-8e96-49e4-a232-ca1802872756",
   "metadata": {},
   "outputs": [],
   "source": []
  }
 ],
 "metadata": {
  "kernelspec": {
   "display_name": "env-neural",
   "language": "python",
   "name": "env-neural"
  },
  "language_info": {
   "codemirror_mode": {
    "name": "ipython",
    "version": 3
   },
   "file_extension": ".py",
   "mimetype": "text/x-python",
   "name": "python",
   "nbconvert_exporter": "python",
   "pygments_lexer": "ipython3",
   "version": "3.12.4"
  }
 },
 "nbformat": 4,
 "nbformat_minor": 5
}
